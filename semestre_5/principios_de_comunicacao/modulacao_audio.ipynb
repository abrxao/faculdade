{
 "cells": [
  {
   "cell_type": "code",
   "execution_count": 1,
   "metadata": {},
   "outputs": [],
   "source": [
    "import librosa\n",
    "import numpy as np\n",
    "import struct\n",
    "\n",
    "# Main function\n",
    "file_path = \"teste.mp3\"  # Replace this with your MP3 file path\n",
    "audio, sr = librosa.load(file_path, sr=None)\n",
    "def float_to_binary(f):\n",
    "    # Convert float to bytes\n",
    "    b = struct.pack('f', f)\n",
    "    # Convert bytes to binary string\n",
    "    return ''.join(f'{x:08b}' for x in b)\n",
    "\n",
    "def binary_to_float(binary):\n",
    "    # Convert binary string to bytes\n",
    "    b = bytes(int(binary[i:i+8], 2) for i in range(0, len(binary), 8))\n",
    "    # Unpack bytes to float\n",
    "    return struct.unpack('f', b)[0]\n"
   ]
  },
  {
   "cell_type": "code",
   "execution_count": 7,
   "metadata": {},
   "outputs": [],
   "source": [
    "bin_vector = []\n",
    "i=0\n",
    "for value in audio:\n",
    "    binary = float_to_binary(value)\n",
    "    for i in range(len(binary)):\n",
    "        if binary[i] == '0':\n",
    "            bin_vector.append(-2)\n",
    "            bin_vector.append(-2)\n",
    "            bin_vector.append(-2)\n",
    "        else:\n",
    "            bin_vector.append(2)\n",
    "            bin_vector.append(2)\n",
    "            bin_vector.append(2)\n",
    "ruido = np.random.normal(0,0.8, len(bin_vector))\n",
    "\n",
    "bin_vector = bin_vector + ruido"
   ]
  },
  {
   "cell_type": "code",
   "execution_count": 8,
   "metadata": {},
   "outputs": [],
   "source": [
    "import math\n",
    "\n",
    "pi_const = 3.141592653589793238462643383279\n",
    "\n",
    "A = 1\n",
    "#frequencia\n",
    "w = 10e6\n",
    "#quantidade de amostras\n",
    "samples = len(bin_vector)\n",
    "#constante da sensiblidade da amplitude do modulador\n",
    "k = 0.8\n",
    "#vetor vazio q vai receber as amostras\n",
    "sender = []\n",
    "# Transform character to bytes\n",
    "step = 1/(int(samples/4))\n",
    "for i in range(samples):\n",
    "    # Transform bytes to integer\n",
    "    t = i*step\n",
    "    msg = bin_vector[i]\n",
    "    sender.append(A*(1 + msg*k)*math.cos(w*t*2*pi_const))"
   ]
  },
  {
   "cell_type": "code",
   "execution_count": 9,
   "metadata": {},
   "outputs": [],
   "source": [
    "receiver = []\n",
    "i = 0\n",
    "\n",
    "while i< samples:\n",
    "    t = i*step\n",
    "    elem1 = ((sender[i]/(math.cos(w*t*2*pi_const)*A)) - 1)/k\n",
    "    elem2 = ((sender[i+1]/(math.cos(w*(t+ 1*step)*2*pi_const)*A)) - 1)/k\n",
    "    elem3 = ((sender[i+2]/(math.cos(w*(t+ 2*step)*2*pi_const)*A)) - 1)/k\n",
    "    sum = elem1 + elem2 + elem3\n",
    "    if sum > 0:\n",
    "        receiver.append(1)\n",
    "    else:\n",
    "        receiver.append(0)\n",
    "    i+=3"
   ]
  },
  {
   "cell_type": "code",
   "execution_count": 10,
   "metadata": {},
   "outputs": [],
   "source": [
    "import soundfile as sf\n",
    "\n",
    "# Your code for converting binary data to a list of floats\n",
    "float_message = []\n",
    "for i in range(0, len(receiver), 32):\n",
    "    # Convert the binary array to a string\n",
    "    binary_string = ''.join(str(bit) for bit in receiver[i:i + 32])\n",
    "    # Convert the binary string to a float\n",
    "    decimal_value = binary_to_float(binary_string)\n",
    "    # Append the float value to the list\n",
    "    float_message.append(decimal_value)\n",
    "# Save the list of floats as an audio file\n",
    "sf.write('teste.wav', np.array(float_message), sr)\n"
   ]
  }
 ],
 "metadata": {
  "kernelspec": {
   "display_name": "Python 3",
   "language": "python",
   "name": "python3"
  },
  "language_info": {
   "codemirror_mode": {
    "name": "ipython",
    "version": 3
   },
   "file_extension": ".py",
   "mimetype": "text/x-python",
   "name": "python",
   "nbconvert_exporter": "python",
   "pygments_lexer": "ipython3",
   "version": "3.10.12"
  }
 },
 "nbformat": 4,
 "nbformat_minor": 2
}
